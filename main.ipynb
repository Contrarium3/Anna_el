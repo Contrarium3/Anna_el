{
 "cells": [
  {
   "cell_type": "code",
   "execution_count": 1,
   "metadata": {},
   "outputs": [],
   "source": [
    "%load_ext autoreload\n",
    "%autoreload 2"
   ]
  },
  {
   "cell_type": "code",
   "execution_count": 2,
   "metadata": {},
   "outputs": [],
   "source": [
    "import requests\n",
    "from bs4 import BeautifulSoup\n",
    "from selenium import webdriver\n",
    "from selenium.webdriver.common.by import By\n",
    "from selenium.webdriver.chrome.service import Service\n",
    "from selenium.webdriver.common.keys import Keys\n",
    "from selenium.webdriver.chrome.options import Options\n",
    "from webdriver_manager.chrome import ChromeDriverManager\n",
    "from selenium import webdriver\n",
    "from selenium.webdriver.common.by import By\n",
    "from selenium.webdriver.support.ui import WebDriverWait\n",
    "from selenium.webdriver.support import expected_conditions as EC\n",
    "\n",
    "import time\n",
    "from utils import *\n",
    "from torrentool.api import Torrent\n",
    "import re\n",
    "import libtorrent as lt \n",
    "import os\n",
    "import hashlib\n",
    "import html\n",
    "from torrents import *\n",
    "from loggers import *"
   ]
  },
  {
   "cell_type": "code",
   "execution_count": 3,
   "metadata": {},
   "outputs": [],
   "source": [
    "# year = 2024\n",
    "# books_taken  = 0\n",
    "\n",
    "# while year >= 1990: \n",
    "#     print(f\"Scraping year {year}..... \\n\")\n",
    "#     page = 1\n",
    "#     while True :\n",
    "#         print(f\"Scraping page {page}\")\n",
    "#         soup = safe_main_scrape(year = year, page= page) \n",
    "#         books_in_page = safe_scrape_page(soup)\n",
    "#         page+=1\n",
    "#         if page > 100 or books_in_page < 88:\n",
    "#             break\n",
    "        \n",
    "\n",
    "#         books_taken+= books_in_page\n",
    "#         print(f\"\\n Added {books_taken} books so far...... \\n\")\n",
    "    \n",
    "        \n",
    "    \n",
    "\n",
    "\n"
   ]
  },
  {
   "cell_type": "code",
   "execution_count": 8,
   "metadata": {},
   "outputs": [
    {
     "name": "stdout",
     "output_type": "stream",
     "text": [
      "Scraping year 1..... \n",
      "\n",
      "❌ ❌ ❌ ❌ Inside torrent file size exceeds maximum allowed size. Aborting.\n",
      "❌ ❌ ❌ ❌ Inside torrent file size exceeds maximum allowed size. Aborting.\n"
     ]
    },
    {
     "ename": "KeyboardInterrupt",
     "evalue": "",
     "output_type": "error",
     "traceback": [
      "\u001b[31m---------------------------------------------------------------------------\u001b[39m",
      "\u001b[31mKeyboardInterrupt\u001b[39m                         Traceback (most recent call last)",
      "\u001b[36mCell\u001b[39m\u001b[36m \u001b[39m\u001b[32mIn[8]\u001b[39m\u001b[32m, line 2\u001b[39m\n\u001b[32m      1\u001b[39m \u001b[38;5;28;01mfrom\u001b[39;00m\u001b[38;5;250m \u001b[39m\u001b[34;01mmain\u001b[39;00m\u001b[38;5;250m \u001b[39m\u001b[38;5;28;01mimport\u001b[39;00m scrape_year\n\u001b[32m----> \u001b[39m\u001b[32m2\u001b[39m \u001b[43mscrape_year\u001b[49m\u001b[43m(\u001b[49m\u001b[32;43m1\u001b[39;49m\u001b[43m,\u001b[49m\u001b[43m \u001b[49m\u001b[43mq\u001b[49m\u001b[43m \u001b[49m\u001b[43m=\u001b[49m\u001b[33;43m\"\u001b[39;49m\u001b[33;43mΑμνησία\u001b[39;49m\u001b[33;43m\"\u001b[39;49m\u001b[43m)\u001b[49m\n",
      "\u001b[36mFile \u001b[39m\u001b[32m~/Desktop/all_scrapes/anna/main.py:45\u001b[39m, in \u001b[36mscrape_year\u001b[39m\u001b[34m(year, q)\u001b[39m\n\u001b[32m     43\u001b[39m \u001b[38;5;28;01mwhile\u001b[39;00m \u001b[38;5;28;01mTrue\u001b[39;00m:\n\u001b[32m     44\u001b[39m     soup = safe_main_scrape(year=year, page=page, q=q)\n\u001b[32m---> \u001b[39m\u001b[32m45\u001b[39m     books_in_page = \u001b[43msafe_scrape_page\u001b[49m\u001b[43m(\u001b[49m\u001b[43m \u001b[49m\u001b[43msoup\u001b[49m\u001b[43m,\u001b[49m\u001b[43m \u001b[49m\u001b[43myear\u001b[49m\u001b[43m)\u001b[49m\n\u001b[32m     47\u001b[39m     page += \u001b[32m1\u001b[39m\n\u001b[32m     48\u001b[39m     books_taken += books_in_page\n",
      "\u001b[36mFile \u001b[39m\u001b[32m~/Desktop/all_scrapes/anna/utils.py:387\u001b[39m, in \u001b[36msafe_scrape_page\u001b[39m\u001b[34m(soup, year)\u001b[39m\n\u001b[32m    384\u001b[39m \u001b[38;5;28;01mdef\u001b[39;00m\u001b[38;5;250m \u001b[39m\u001b[34msafe_scrape_page\u001b[39m(soup, year):\n\u001b[32m    386\u001b[39m     \u001b[38;5;28;01mtry\u001b[39;00m:\n\u001b[32m--> \u001b[39m\u001b[32m387\u001b[39m         \u001b[38;5;28;01mreturn\u001b[39;00m \u001b[43mscrape_page\u001b[49m\u001b[43m(\u001b[49m\u001b[43msoup\u001b[49m\u001b[43m,\u001b[49m\u001b[43m \u001b[49m\u001b[43myear\u001b[49m\u001b[43m)\u001b[49m\n\u001b[32m    389\u001b[39m     \u001b[38;5;28;01mexcept\u001b[39;00m \u001b[38;5;167;01mException\u001b[39;00m \u001b[38;5;28;01mas\u001b[39;00m e:\n\u001b[32m    390\u001b[39m         log_error(year , \u001b[33mf\u001b[39m\u001b[33m\"\u001b[39m\u001b[33mError caught on safe_scrape_page(): \u001b[39m\u001b[38;5;132;01m{\u001b[39;00me\u001b[38;5;132;01m}\u001b[39;00m\u001b[33m |\u001b[39m\u001b[33m\"\u001b[39m)\n",
      "\u001b[36mFile \u001b[39m\u001b[32m<string>:160\u001b[39m, in \u001b[36mscrape_page\u001b[39m\u001b[34m(soup, year)\u001b[39m\n",
      "\u001b[36mFile \u001b[39m\u001b[32m~/Desktop/all_scrapes/anna/torrents.py:225\u001b[39m, in \u001b[36mdownload_specific_file\u001b[39m\u001b[34m(year, torrent_file, save_path, file_name, max_file_size_gb, min_download_speed, max_stall_time, max_connection_attempts)\u001b[39m\n\u001b[32m    222\u001b[39m \u001b[38;5;28;01mif\u001b[39;00m progress > last_progress:\n\u001b[32m    223\u001b[39m     last_progress = progress\n\u001b[32m--> \u001b[39m\u001b[32m225\u001b[39m time.sleep(\u001b[32m5\u001b[39m)\n",
      "\u001b[31mKeyboardInterrupt\u001b[39m: "
     ]
    }
   ],
   "source": [
    "from main import scrape_year\n",
    "scrape_year(1, q =\"Αμνησία\")"
   ]
  },
  {
   "cell_type": "code",
   "execution_count": null,
   "metadata": {},
   "outputs": [],
   "source": [
    "x = True , None"
   ]
  },
  {
   "cell_type": "code",
   "execution_count": null,
   "metadata": {},
   "outputs": [],
   "source": [
    "if x[0]:\n",
    "    print(1)"
   ]
  }
 ],
 "metadata": {
  "kernelspec": {
   "display_name": "anna-kv6u2mJb-py3.11",
   "language": "python",
   "name": "python3"
  },
  "language_info": {
   "codemirror_mode": {
    "name": "ipython",
    "version": 3
   },
   "file_extension": ".py",
   "mimetype": "text/x-python",
   "name": "python",
   "nbconvert_exporter": "python",
   "pygments_lexer": "ipython3",
   "version": "3.11.11"
  }
 },
 "nbformat": 4,
 "nbformat_minor": 2
}
